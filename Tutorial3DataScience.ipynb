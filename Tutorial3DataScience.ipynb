{
  "nbformat": 4,
  "nbformat_minor": 0,
  "metadata": {
    "colab": {
      "provenance": []
    },
    "kernelspec": {
      "name": "python3",
      "display_name": "Python 3"
    },
    "language_info": {
      "name": "python"
    }
  },
  "cells": [
    {
      "cell_type": "code",
      "execution_count": null,
      "metadata": {
        "colab": {
          "base_uri": "https://localhost:8080/"
        },
        "id": "Ce3MUcT8_Iv9",
        "outputId": "bb000213-faf8-4cc5-b90d-39d1aef9dc2d"
      },
      "outputs": [
        {
          "output_type": "stream",
          "name": "stdout",
          "text": [
            "[[1 2]\n",
            " [3 4]]\n"
          ]
        }
      ],
      "source": [
        "#Tutorial 3 Data Science\n",
        "#Question 1\n",
        "import numpy as np\n",
        "array1 = np.array([[1,2],[3,4]])\n",
        "print(array1)"
      ]
    },
    {
      "cell_type": "code",
      "source": [
        "#Question2\n",
        "array2 = np.random.random((3,4))\n",
        "print(array2)"
      ],
      "metadata": {
        "colab": {
          "base_uri": "https://localhost:8080/"
        },
        "id": "gIqbRLTRA_gR",
        "outputId": "c788c073-2ee0-4db1-c0ec-6fca2f721d21"
      },
      "execution_count": null,
      "outputs": [
        {
          "output_type": "stream",
          "name": "stdout",
          "text": [
            "[[0.56662177 0.05526638 0.72372162 0.26528186]\n",
            " [0.93416159 0.42034623 0.20954565 0.72396683]\n",
            " [0.17422493 0.44351963 0.77182794 0.5048529 ]]\n"
          ]
        }
      ]
    },
    {
      "cell_type": "code",
      "source": [
        "#Question3\n",
        "num_of_matrices = int(input(\"Enter number of matrices :\"))\n",
        "num_of_row_and_columns = int(input(\"Enter number of rows and colums :\"))\n",
        "\n",
        "def build_matrices(num_of_matrices,num_of_row_and_columns):\n",
        "  ones_array3 = np.ones((num_of_row_and_columns,num_of_row_and_columns))\n",
        "  zeros_array3 = np.zeros((num_of_row_and_columns,num_of_row_and_columns))\n",
        "  for i in range(num_of_matrices):\n",
        "    print(ones_array3)\n",
        "    print(zeros_array3)\n",
        "    break\n",
        "\n",
        "arrays3 = build_matrices(num_of_matrices,num_of_row_and_columns)\n",
        "\n"
      ],
      "metadata": {
        "colab": {
          "base_uri": "https://localhost:8080/"
        },
        "id": "-YVHe8nPBaL1",
        "outputId": "04ea2e20-4f9d-4c3e-9ea5-6d52240194c9"
      },
      "execution_count": null,
      "outputs": [
        {
          "output_type": "stream",
          "name": "stdout",
          "text": [
            "Enter number of matrices :3\n",
            "Enter number of rows and colums :4\n",
            "[[1. 1. 1. 1.]\n",
            " [1. 1. 1. 1.]\n",
            " [1. 1. 1. 1.]\n",
            " [1. 1. 1. 1.]]\n",
            "[[0. 0. 0. 0.]\n",
            " [0. 0. 0. 0.]\n",
            " [0. 0. 0. 0.]\n",
            " [0. 0. 0. 0.]]\n"
          ]
        }
      ]
    },
    {
      "cell_type": "code",
      "source": [
        "#Question4\n",
        "def transpose_array():\n",
        "  original_array = np.random.rand(6,3)\n",
        "  transposed_array = original_array.T\n",
        "  print(\"Original array :\\n\")\n",
        "  print(original_array)\n",
        "  print(\"\\n\")\n",
        "  print(\"Transposed array :\\n\")\n",
        "  print(transposed_array)\n",
        "\n",
        "transpose_array()"
      ],
      "metadata": {
        "colab": {
          "base_uri": "https://localhost:8080/"
        },
        "id": "3b-1JMFMCA4T",
        "outputId": "b6937b44-ba05-4d40-ed93-b933bb28e852"
      },
      "execution_count": null,
      "outputs": [
        {
          "output_type": "stream",
          "name": "stdout",
          "text": [
            "Original array :\n",
            "\n",
            "[[0.74872271 0.91164074 0.7352532 ]\n",
            " [0.92970197 0.17632757 0.67520132]\n",
            " [0.01511475 0.0541728  0.31244573]\n",
            " [0.84615679 0.98076795 0.66967942]\n",
            " [0.79303083 0.70531519 0.02045798]\n",
            " [0.50659719 0.08312145 0.00136814]]\n",
            "\n",
            "\n",
            "Transposed array :\n",
            "\n",
            "[[0.74872271 0.92970197 0.01511475 0.84615679 0.79303083 0.50659719]\n",
            " [0.91164074 0.17632757 0.0541728  0.98076795 0.70531519 0.08312145]\n",
            " [0.7352532  0.67520132 0.31244573 0.66967942 0.02045798 0.00136814]]\n"
          ]
        }
      ]
    },
    {
      "cell_type": "code",
      "source": [
        "#Question5\n",
        "n = int(input(\"Enter n:\"))\n",
        "p = int(input(\"Enter p:\"))\n",
        "m = int(input(\"Enter m:\"))\n",
        "\n",
        "def dot_product(n,p,m):\n",
        "  array_A = np.random.rand(n,p)\n",
        "  array_B = np.random.rand(p,m)\n",
        "  dot_product = array_A @ array_B\n",
        "  return dot_product\n",
        "\n",
        "dot_product = dot_product(n,p,m)\n",
        "print(dot_product)"
      ],
      "metadata": {
        "colab": {
          "base_uri": "https://localhost:8080/"
        },
        "id": "vVttI2flHXbt",
        "outputId": "6f52d40f-f679-48d4-ff20-cde750e6ff54"
      },
      "execution_count": null,
      "outputs": [
        {
          "output_type": "stream",
          "name": "stdout",
          "text": [
            "Enter n:3\n",
            "Enter p:4\n",
            "Enter m:5\n",
            "[[0.88081853 0.93678043 1.01197777 0.39928198 1.11601884]\n",
            " [0.42383541 0.63036556 0.57381941 0.15100391 0.64656308]\n",
            " [0.53403664 0.90162508 0.84449669 0.39271776 0.83026012]]\n"
          ]
        }
      ]
    }
  ]
}